{
 "cells": [
  {
   "cell_type": "markdown",
   "metadata": {},
   "source": [
    "# Pandas Presentation \n",
    "## Featuring NBA Shot Charts of Lebron James, Steph Curry, and James Harden\n",
    "### Arupava Saha\n",
    "\n",
    "First, we will import pandas and numpy into our environment, and load up the different csv files and show off a summary using the `.head()` method.\n",
    "A special aspect of pandas is that one can immediately turn a csv file into a pandas dataframe with the `pandas.read_csv()` method. \n",
    "A pandas dataframe is a tabular data structure consisting of rows and columns of different information, where each row is essentially a unique item. Each row and columns can have \n",
    "their own label. \n",
    "\n",
    "\\\n",
    "Let's start by giving a summary of the shot charts of Lebron James, James Harden, and Steph Curry\n",
    "\n"
   ]
  },
  {
   "cell_type": "code",
   "execution_count": 7,
   "metadata": {},
   "outputs": [
    {
     "name": "stdout",
     "output_type": "stream",
     "text": [
      "Lebron James summary\n",
      "   top  left          date      qtr time_remaining  result  shot_type  \\\n",
      "0  310   203  Oct 18, 2022  1st Qtr          09:26   False          3   \n",
      "1  213   259  Oct 18, 2022  1st Qtr          08:38   False          2   \n",
      "2  143   171  Oct 18, 2022  1st Qtr          08:10   False          2   \n",
      "3   68   215  Oct 18, 2022  1st Qtr          05:24    True          2   \n",
      "4   66   470  Oct 18, 2022  1st Qtr          01:02   False          3   \n",
      "\n",
      "   distance_ft   lead  lebron_team_score  opponent_team_score opponent team  \\\n",
      "0           26  False                  2                    2      GSW  LAL   \n",
      "1           16  False                  4                    5      GSW  LAL   \n",
      "2           11  False                  4                    7      GSW  LAL   \n",
      "3            3  False                 12                   19      GSW  LAL   \n",
      "4           23  False                 22                   23      GSW  LAL   \n",
      "\n",
      "   season  color  \n",
      "0    2023    red  \n",
      "1    2023    red  \n",
      "2    2023    red  \n",
      "3    2023  green  \n",
      "4    2023    red  \n",
      "James Harden summary\n",
      "   top  left          date      qtr time_remaining  result  shot_type  \\\n",
      "0  323   329  Oct 18, 2022  1st Qtr           8:52   False          3   \n",
      "1  340   265  Oct 18, 2022  1st Qtr           4:08    True          3   \n",
      "2  304   318  Oct 18, 2022  1st Qtr           2:51    True          3   \n",
      "3  116   280  Oct 18, 2022  1st Qtr           2:21    True          2   \n",
      "4  320   188  Oct 18, 2022  2nd Qtr           6:21    True          3   \n",
      "\n",
      "   distance_ft   lead  lebron_team_score  opponent_team_score opponent team  \\\n",
      "0           28  False                  2                    9      BOS  PHI   \n",
      "1           29   True                 18                   17      BOS  PHI   \n",
      "2           26   True                 22                   17      BOS  PHI   \n",
      "3            7   True                 25                   17      BOS  PHI   \n",
      "4           27   True                 45                   43      BOS  PHI   \n",
      "\n",
      "   season  color  \n",
      "0    2023    red  \n",
      "1    2023  green  \n",
      "2    2023  green  \n",
      "3    2023  green  \n",
      "4    2023  green  \n",
      "Stephen Curry summary\n",
      "   top  left          date      qtr time_remaining  result  shot_type  \\\n",
      "0   63   300  Oct 18, 2022  1st Qtr           7:27   False          2   \n",
      "1  133   389  Oct 18, 2022  1st Qtr           7:22    True          2   \n",
      "2  326   247  Oct 18, 2022  1st Qtr           7:11   False          3   \n",
      "3  249    89  Oct 18, 2022  1st Qtr           5:16   False          3   \n",
      "4  282   158  Oct 18, 2022  1st Qtr           3:52   False          3   \n",
      "\n",
      "   distance_ft  lead  lebron_team_score  opponent_team_score opponent team  \\\n",
      "0            6  True                  9                    6      LAL  GSW   \n",
      "1           17  True                 11                    6      LAL  GSW   \n",
      "2           27  True                 11                    6      LAL  GSW   \n",
      "3           25  True                 19                   13      LAL  GSW   \n",
      "4           24  True                 22                   17      LAL  GSW   \n",
      "\n",
      "   season  color  \n",
      "0    2023    red  \n",
      "1    2023  green  \n",
      "2    2023    red  \n",
      "3    2023    red  \n",
      "4    2023    red  \n",
      "\n",
      " Data Frame Structure\n",
      "<class 'pandas.core.frame.DataFrame'>\n",
      "RangeIndex: 1533 entries, 0 to 1532\n",
      "Data columns (total 15 columns):\n",
      " #   Column               Non-Null Count  Dtype \n",
      "---  ------               --------------  ----- \n",
      " 0   top                  1533 non-null   int64 \n",
      " 1   left                 1533 non-null   int64 \n",
      " 2   date                 1533 non-null   object\n",
      " 3   qtr                  1533 non-null   object\n",
      " 4   time_remaining       1533 non-null   object\n",
      " 5   result               1533 non-null   bool  \n",
      " 6   shot_type            1533 non-null   int64 \n",
      " 7   distance_ft          1533 non-null   int64 \n",
      " 8   lead                 1533 non-null   bool  \n",
      " 9   lebron_team_score    1533 non-null   int64 \n",
      " 10  opponent_team_score  1533 non-null   int64 \n",
      " 11  opponent             1533 non-null   object\n",
      " 12  team                 1533 non-null   object\n",
      " 13  season               1533 non-null   int64 \n",
      " 14  color                1533 non-null   object\n",
      "dtypes: bool(2), int64(7), object(6)\n",
      "memory usage: 158.8+ KB\n",
      "None\n",
      "\n",
      " Lebron James describe\n",
      "               top         left    shot_type  distance_ft  lebron_team_score  \\\n",
      "count  1533.000000  1533.000000  1533.000000  1533.000000        1533.000000   \n",
      "mean    151.410959   231.982387     2.318982    12.960861          59.813438   \n",
      "std      98.316684    91.626122     0.466234    10.698687          35.376109   \n",
      "min      36.000000     2.000000     2.000000     0.000000           0.000000   \n",
      "25%      67.000000   193.000000     2.000000     3.000000          31.000000   \n",
      "50%      98.000000   238.000000     2.000000    10.000000          60.000000   \n",
      "75%     251.000000   261.000000     3.000000    25.000000          88.000000   \n",
      "max     389.000000   478.000000     3.000000    34.000000         140.000000   \n",
      "\n",
      "       opponent_team_score  season  \n",
      "count          1533.000000  1533.0  \n",
      "mean             59.098500  2023.0  \n",
      "std              35.456701     0.0  \n",
      "min               0.000000  2023.0  \n",
      "25%              31.000000  2023.0  \n",
      "50%              59.000000  2023.0  \n",
      "75%              88.000000  2023.0  \n",
      "max             133.000000  2023.0  \n"
     ]
    }
   ],
   "source": [
    "import pandas as pd\n",
    "import numpy as np\n",
    "\n",
    "lj = pd.read_csv('1_lebron_james_shot_chart_1_2023.csv')\n",
    "print(\"Lebron James summary\")\n",
    "print(lj.head())\n",
    "\n",
    "jh = pd.read_csv('2_james_harden_shot_chart_2023.csv')\n",
    "print(\"James Harden summary\")\n",
    "print(jh.head())\n",
    "\n",
    "sc = pd.read_csv('3_stephen_curry_shot_chart_2023.csv')\n",
    "print(\"Stephen Curry summary\")\n",
    "print(sc.head())"
   ]
  },
  {
   "cell_type": "markdown",
   "metadata": {},
   "source": [
    "## Data Frame Structure\n",
    "As you can see below, the pandas data frame is a class called `pandas.core.frame.DataFrame`. The dataframe can be indexed by row, starting at 0. Thge special aspect of the pandas dataframe is the ability to store different datatypes. For example, our Lebron James dataframe has `int64` datatype for the `top`, `left`, and `shot_type` columns.  \n",
    "\n",
    "We also can see how many non-null entries are in each column. Luckily, our data does not have any non-null values, but we can drop entries with `.dropna()` function. We can change the datatype of columns with `astype()`.\n",
    "\n",
    "Let's see all of this in action by calling the `.info()` method on our dataframe."
   ]
  },
  {
   "cell_type": "code",
   "execution_count": 8,
   "metadata": {},
   "outputs": [
    {
     "name": "stdout",
     "output_type": "stream",
     "text": [
      "\n",
      " Data Frame Structure\n",
      "<class 'pandas.core.frame.DataFrame'>\n",
      "RangeIndex: 1533 entries, 0 to 1532\n",
      "Data columns (total 15 columns):\n",
      " #   Column               Non-Null Count  Dtype \n",
      "---  ------               --------------  ----- \n",
      " 0   top                  1533 non-null   int64 \n",
      " 1   left                 1533 non-null   int64 \n",
      " 2   date                 1533 non-null   object\n",
      " 3   qtr                  1533 non-null   object\n",
      " 4   time_remaining       1533 non-null   object\n",
      " 5   result               1533 non-null   bool  \n",
      " 6   shot_type            1533 non-null   int64 \n",
      " 7   distance_ft          1533 non-null   int64 \n",
      " 8   lead                 1533 non-null   bool  \n",
      " 9   lebron_team_score    1533 non-null   int64 \n",
      " 10  opponent_team_score  1533 non-null   int64 \n",
      " 11  opponent             1533 non-null   object\n",
      " 12  team                 1533 non-null   object\n",
      " 13  season               1533 non-null   int64 \n",
      " 14  color                1533 non-null   object\n",
      "dtypes: bool(2), int64(7), object(6)\n",
      "memory usage: 158.8+ KB\n",
      "None\n"
     ]
    }
   ],
   "source": [
    "print(\"\\n Data Frame Structure\")\n",
    "print(lj.info())"
   ]
  },
  {
   "cell_type": "markdown",
   "metadata": {},
   "source": [
    "## Descriptive Statistics\n",
    "\n",
    "Another nice feature of pandas is the rapid access to descriptive statistics. All we have to do is call `.describe()` on our dataframe we will be given: count, mean, standard deviation, and more about the dataframe.\n",
    "\\\n",
    "Let's try it out now with all of dataframes. "
   ]
  },
  {
   "cell_type": "code",
   "execution_count": 9,
   "metadata": {},
   "outputs": [
    {
     "name": "stdout",
     "output_type": "stream",
     "text": [
      "\n",
      " Lebron James descriptive statistics\n",
      "               top         left    shot_type  distance_ft  lebron_team_score  \\\n",
      "count  1533.000000  1533.000000  1533.000000  1533.000000        1533.000000   \n",
      "mean    151.410959   231.982387     2.318982    12.960861          59.813438   \n",
      "std      98.316684    91.626122     0.466234    10.698687          35.376109   \n",
      "min      36.000000     2.000000     2.000000     0.000000           0.000000   \n",
      "25%      67.000000   193.000000     2.000000     3.000000          31.000000   \n",
      "50%      98.000000   238.000000     2.000000    10.000000          60.000000   \n",
      "75%     251.000000   261.000000     3.000000    25.000000          88.000000   \n",
      "max     389.000000   478.000000     3.000000    34.000000         140.000000   \n",
      "\n",
      "       opponent_team_score  season  \n",
      "count          1533.000000  1533.0  \n",
      "mean             59.098500  2023.0  \n",
      "std              35.456701     0.0  \n",
      "min               0.000000  2023.0  \n",
      "25%              31.000000  2023.0  \n",
      "50%              59.000000  2023.0  \n",
      "75%              88.000000  2023.0  \n",
      "max             133.000000  2023.0  \n",
      "\n",
      " James Harden descriptive statistics\n",
      "               top         left    shot_type  distance_ft  lebron_team_score  \\\n",
      "count  1025.000000  1025.000000  1025.000000  1025.000000        1025.000000   \n",
      "mean    187.128780   263.727805     2.486829    16.507317          56.415610   \n",
      "std     100.476856    96.539798     0.500070    10.589748          33.629167   \n",
      "min      31.000000    -3.000000     2.000000     0.000000           0.000000   \n",
      "25%      83.000000   216.000000     2.000000     5.000000          29.000000   \n",
      "50%     180.000000   243.000000     2.000000    19.000000          55.000000   \n",
      "75%     292.000000   328.000000     3.000000    26.000000          83.000000   \n",
      "max     368.000000   481.000000     3.000000    32.000000         135.000000   \n",
      "\n",
      "       opponent_team_score  season  \n",
      "count          1025.000000  1025.0  \n",
      "mean             55.072195  2023.0  \n",
      "std              33.086987     0.0  \n",
      "min               0.000000  2023.0  \n",
      "25%              28.000000  2023.0  \n",
      "50%              54.000000  2023.0  \n",
      "75%              83.000000  2023.0  \n",
      "max             131.000000  2023.0  \n",
      "\n",
      " Stephen Curry descriptive statistics\n",
      "               top         left    shot_type  distance_ft  lebron_team_score  \\\n",
      "count  1434.000000  1434.000000  1434.000000  1434.000000        1434.000000   \n",
      "mean    191.847280   246.480474     2.548117    18.411437          63.510460   \n",
      "std     101.700886   120.059755     0.497853    10.367741          34.686879   \n",
      "min      26.000000    -3.000000     2.000000     0.000000           0.000000   \n",
      "25%      80.000000   172.000000     2.000000     6.000000          34.000000   \n",
      "50%     208.000000   249.000000     3.000000    24.000000          65.500000   \n",
      "75%     287.000000   328.000000     3.000000    27.000000          93.000000   \n",
      "max     388.000000   483.000000     3.000000    36.000000         128.000000   \n",
      "\n",
      "       opponent_team_score  season  \n",
      "count          1434.000000  1434.0  \n",
      "mean             62.246165  2023.0  \n",
      "std              34.981942     0.0  \n",
      "min               0.000000  2023.0  \n",
      "25%              34.250000  2023.0  \n",
      "50%              63.000000  2023.0  \n",
      "75%              91.000000  2023.0  \n",
      "max             135.000000  2023.0  \n"
     ]
    }
   ],
   "source": [
    "print(\"\\n Lebron James descriptive statistics\")\n",
    "print(lj.describe())\n",
    "\n",
    "print(\"\\n James Harden descriptive statistics\")\n",
    "print(jh.describe())\n",
    "\n",
    "print(\"\\n Stephen Curry descriptive statistics\")\n",
    "print(sc.describe())"
   ]
  },
  {
   "cell_type": "markdown",
   "metadata": {},
   "source": [
    "## Data Wrangling \n",
    "\n",
    "Let's do some practice with data wrangling. Let's use an advanced basketball statistic, the Effective Field Goal percentage, to practice. \n",
    "\n",
    "The Formula is as follow:\n",
    "$EFG = \\frac{FG + \\frac{3P}{2}}{FGA}$ \n",
    " \n",
    "where FG stands for number of field goals, 3P stands for number of three pointers made, and FGA stands for field goals attempted.\n",
    "\n",
    "Let's tackle each one of these variables one after another. First, for number of field goals made, we need to count the occurrence of true in the `result` category. "
   ]
  },
  {
   "cell_type": "code",
   "execution_count": 19,
   "metadata": {},
   "outputs": [
    {
     "name": "stdout",
     "output_type": "stream",
     "text": [
      "\n",
      "Lebron James shot result\n",
      "result\n",
      "True     768\n",
      "False    765\n",
      "Name: count, dtype: int64\n",
      "Lebron James's field goals made: 768\n"
     ]
    }
   ],
   "source": [
    "value_counts_lj = lj['result'].value_counts()\n",
    "print(\"\\nLebron James shot result\")\n",
    "print(value_counts)\n",
    "\n",
    "fg_lj = value_counts_lj.get(True)\n",
    "print(\"Lebron James's field goals made: \" + str(fg_lj))"
   ]
  },
  {
   "cell_type": "markdown",
   "metadata": {},
   "source": [
    "Here, we used `.value_counts()` to figure out how many shot attempts went in. We can figure out the three pointers made in a similar fashion. "
   ]
  },
  {
   "cell_type": "code",
   "execution_count": 29,
   "metadata": {},
   "outputs": [
    {
     "name": "stdout",
     "output_type": "stream",
     "text": [
      "\n",
      "Lebron James's made shots\n",
      "    top  left          date      qtr time_remaining  result  shot_type  \\\n",
      "3    68   215  Oct 18, 2022  1st Qtr          05:24    True          2   \n",
      "5    63   239  Oct 18, 2022  2nd Qtr          11:30    True          2   \n",
      "7    53   224  Oct 18, 2022  2nd Qtr          10:05    True          2   \n",
      "11   63   249  Oct 18, 2022  2nd Qtr          03:53    True          2   \n",
      "13   54   249  Oct 18, 2022  2nd Qtr          01:48    True          2   \n",
      "\n",
      "    distance_ft   lead  lebron_team_score  opponent_team_score opponent team  \\\n",
      "3             3  False                 12                   19      GSW  LAL   \n",
      "5             1  False                 24                   25      GSW  LAL   \n",
      "7             2  False                 26                   27      GSW  LAL   \n",
      "11            1  False                 39                   49      GSW  LAL   \n",
      "13            1  False                 44                   53      GSW  LAL   \n",
      "\n",
      "    season  color  \n",
      "3     2023  green  \n",
      "5     2023  green  \n",
      "7     2023  green  \n",
      "11    2023  green  \n",
      "13    2023  green  \n",
      "\n",
      "Lebron James's made 3PT shots: 152\n"
     ]
    }
   ],
   "source": [
    "made_shots = lj[lj['result'] == True]\n",
    "print(\"\\nLebron James's made shots\")\n",
    "print(made_shots.head())\n",
    "\n",
    "made_value_counts_lj = made_shots['shot_type'].value_counts()\n",
    "three_pt_made_lj = made_value_counts_lj.get(3)\n",
    "print(\"\\nLebron James's made 3PT shots: \" + str(three_pt_made_lj))"
   ]
  },
  {
   "cell_type": "markdown",
   "metadata": {},
   "source": [
    "Whoa, we just did some very different code. We used filtering to find which shots Lebron actually made. We did this with the format `new_df = df[df['column'] == True]` we can use this format with other conditionals as well. \n",
    "\n",
    "Finally, we have to find the attempted field goals, which we can just caluclate by getting the number of rows of the dataframe."
   ]
  },
  {
   "cell_type": "code",
   "execution_count": 33,
   "metadata": {},
   "outputs": [
    {
     "name": "stdout",
     "output_type": "stream",
     "text": [
      "\n",
      "Lebron James's field goals attempted: 1533\n"
     ]
    }
   ],
   "source": [
    "field_goals_attempted_lj = len(lj)\n",
    "print(\"\\nLebron James's field goals attempted: \" + str(field_goals_attempted_lj))"
   ]
  },
  {
   "cell_type": "markdown",
   "metadata": {},
   "source": [
    "Now we can finally calculate Lebron's Effective Field Goal Percentage"
   ]
  },
  {
   "cell_type": "code",
   "execution_count": 34,
   "metadata": {},
   "outputs": [
    {
     "name": "stdout",
     "output_type": "stream",
     "text": [
      "Lebron James's effective field goal percentage: 0.5505544683626875\n"
     ]
    }
   ],
   "source": [
    "efg_lj = (fg_lj + 0.5 * three_pt_made_lj) / field_goals_attempted_lj\n",
    "print(\"Lebron James's effective field goal percentage: \" + str(efg_lj))"
   ]
  }
 ],
 "metadata": {
  "kernelspec": {
   "display_name": "Python 3 (ipykernel)",
   "language": "python",
   "name": "python3"
  },
  "language_info": {
   "codemirror_mode": {
    "name": "ipython",
    "version": 3
   },
   "file_extension": ".py",
   "mimetype": "text/x-python",
   "name": "python",
   "nbconvert_exporter": "python",
   "pygments_lexer": "ipython3",
   "version": "3.9.6"
  }
 },
 "nbformat": 4,
 "nbformat_minor": 4
}
